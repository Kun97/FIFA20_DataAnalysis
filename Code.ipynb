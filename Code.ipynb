{
  "nbformat": 4,
  "nbformat_minor": 0,
  "metadata": {
    "colab": {
      "name": "Untitled0.ipynb",
      "provenance": [],
      "authorship_tag": "ABX9TyOBNZPfhWdgbTo2neAWS13I",
      "include_colab_link": true
    },
    "kernelspec": {
      "name": "python3",
      "display_name": "Python 3"
    }
  },
  "cells": [
    {
      "cell_type": "markdown",
      "metadata": {
        "id": "view-in-github",
        "colab_type": "text"
      },
      "source": [
        "<a href=\"https://colab.research.google.com/github/Kun97/FIFA20_DataAnalysis/blob/main/Code.ipynb\" target=\"_parent\"><img src=\"https://colab.research.google.com/assets/colab-badge.svg\" alt=\"Open In Colab\"/></a>"
      ]
    },
    {
      "cell_type": "code",
      "metadata": {
        "colab": {
          "base_uri": "https://localhost:8080/"
        },
        "id": "45JZ8-JVYbIN",
        "outputId": "65530379-e14c-4c93-975f-4b93c0675316"
      },
      "source": [
        "# Load Data\n",
        "%%bash\n",
        "pip install pyspark\n",
        "# Download the data files from github\n",
        "# If the data file does not exist in the colab environment\n",
        "if [[ ! -f ./players_20.csv ]]; then \n",
        "   # download the data file from github and save it in this colab environment instance\n",
        "   wget https://raw.githubusercontent.com/Kun97/FIFA20_DataAnalysis/main/players_20.csv\n",
        "fi"
      ],
      "execution_count": 113,
      "outputs": [
        {
          "output_type": "stream",
          "text": [
            "Requirement already satisfied: pyspark in /usr/local/lib/python3.6/dist-packages (3.0.1)\n",
            "Requirement already satisfied: py4j==0.10.9 in /usr/local/lib/python3.6/dist-packages (from pyspark) (0.10.9)\n"
          ],
          "name": "stdout"
        }
      ]
    },
    {
      "cell_type": "code",
      "metadata": {
        "id": "R5BV-PgYYYtu"
      },
      "source": [
        "# The first code cell of your notebook shall include all needed imports to run your project code.  Note that\n",
        "# there can be markdown cells above this cell.\n",
        "from pyspark.sql import SparkSession\n",
        "import pandas as pd\n",
        "from pyspark.sql.functions import col, lit, split, isnan, when, count, isnull"
      ],
      "execution_count": 114,
      "outputs": []
    },
    {
      "cell_type": "code",
      "metadata": {
        "id": "zoulHi-UYwOB"
      },
      "source": [
        "from pyspark.sql import SparkSession\n",
        "spark = SparkSession.builder.master(\"local[*]\").getOrCreate()\n",
        "sc = spark.sparkContext"
      ],
      "execution_count": 115,
      "outputs": []
    },
    {
      "cell_type": "code",
      "metadata": {
        "id": "XoUAYDsWY0sp"
      },
      "source": [
        "original_data = spark.read.csv(\"players_20.csv\", inferSchema=True, header=True)"
      ],
      "execution_count": 116,
      "outputs": []
    },
    {
      "cell_type": "code",
      "metadata": {
        "id": "oB3qiwATahEn"
      },
      "source": [
        "# drop useless columns\n",
        "drop1_columns = ['sofifa_id', 'player_url', 'long_name', 'player_tags', 'player_traits', 'real_face', 'nation_jersey_number', 'team_jersey_number', 'loaned_from', 'joined', 'contract_valid_until']\n",
        "fixed1_Data = original_data.drop(*drop1_columns)"
      ],
      "execution_count": 117,
      "outputs": []
    },
    {
      "cell_type": "code",
      "metadata": {
        "id": "i4u6vfWtaju7"
      },
      "source": [
        "# drop position ability(duplicated and will affect the final result)\n",
        "drop2_columns = fixed1_Data.columns[-26:]\n",
        "fixed2_Data = fixed1_Data.drop(*drop2_columns)"
      ],
      "execution_count": 118,
      "outputs": []
    },
    {
      "cell_type": "code",
      "metadata": {
        "id": "yThhmgymAJz0"
      },
      "source": [
        "# drop duplicated columns\n",
        "drop3_columns = ['wage_eur', 'team_position', 'release_clause_eur', 'nation_position']\n",
        "fixed3_Data = fixed2_Data.drop(*drop3_columns)"
      ],
      "execution_count": 119,
      "outputs": []
    },
    {
      "cell_type": "code",
      "metadata": {
        "id": "9tvzux32IDWk"
      },
      "source": [
        "# split player_positions and choose the first position as primary position\n",
        "split_col = split(fixed3_Data['player_positions'], ',')\n",
        "position_data = fixed3_Data.withColumn('Position', split_col.getItem(0))\n",
        "position_data = position_data.drop('player_positions')"
      ],
      "execution_count": 120,
      "outputs": []
    },
    {
      "cell_type": "code",
      "metadata": {
        "colab": {
          "base_uri": "https://localhost:8080/"
        },
        "id": "ZCPifnT6AkbR",
        "outputId": "6f21156c-5fe4-4064-fad1-5f6bd18c275e"
      },
      "source": [
        "# narrow down positions: defender\n",
        "defender = ['LCB', 'RCB', 'LB', 'RB', 'CB', 'RWB', 'LWB']\n",
        "defender_data = position_data.filter(col('Position').isin(defender)).withColumn('Positon_General', lit('Defender'))\n",
        "defender_data.count()"
      ],
      "execution_count": 121,
      "outputs": [
        {
          "output_type": "execute_result",
          "data": {
            "text/plain": [
              "5938"
            ]
          },
          "metadata": {
            "tags": []
          },
          "execution_count": 121
        }
      ]
    },
    {
      "cell_type": "code",
      "metadata": {
        "colab": {
          "base_uri": "https://localhost:8080/"
        },
        "id": "KveIQxvtCTid",
        "outputId": "dc778aec-d23c-4f31-dd54-822bd46e6385"
      },
      "source": [
        "# midfileder\n",
        "midfileder = ['LCM', 'LM', 'RDM', 'CAM', 'RAM', 'RCM', 'CM', 'CDM', 'RM', 'LAM', 'LDM']\n",
        "midfileder_data = position_data.filter(col('Position').isin(midfileder)).withColumn('Positon_General', lit('Midfileder'))\n",
        "midfileder_data.count()"
      ],
      "execution_count": 122,
      "outputs": [
        {
          "output_type": "execute_result",
          "data": {
            "text/plain": [
              "6862"
            ]
          },
          "metadata": {
            "tags": []
          },
          "execution_count": 122
        }
      ]
    },
    {
      "cell_type": "code",
      "metadata": {
        "colab": {
          "base_uri": "https://localhost:8080/"
        },
        "id": "JVkt2BxDZYao",
        "outputId": "aff2f6c0-908f-40d7-da03-287f51089833"
      },
      "source": [
        "# attacker\n",
        "attacker = ['ST', 'CF', 'LW', 'RW']\n",
        "attacker_data = position_data.filter(col('Position').isin(attacker)).withColumn('Positon_General', lit('Attacker'))\n",
        "attacker_data.count()"
      ],
      "execution_count": 123,
      "outputs": [
        {
          "output_type": "execute_result",
          "data": {
            "text/plain": [
              "3442"
            ]
          },
          "metadata": {
            "tags": []
          },
          "execution_count": 123
        }
      ]
    },
    {
      "cell_type": "code",
      "metadata": {
        "colab": {
          "base_uri": "https://localhost:8080/"
        },
        "id": "EE4sL882ZkBT",
        "outputId": "f79294fa-67cd-474b-afd6-32551966cef0"
      },
      "source": [
        "# goal keeper\n",
        "gk_data = position_data.filter(col('Position').isin(['GK'])).withColumn('Positon_General', lit('GK'))\n",
        "gk_data.count()"
      ],
      "execution_count": 124,
      "outputs": [
        {
          "output_type": "execute_result",
          "data": {
            "text/plain": [
              "2036"
            ]
          },
          "metadata": {
            "tags": []
          },
          "execution_count": 124
        }
      ]
    },
    {
      "cell_type": "code",
      "metadata": {
        "id": "CBUcnSGXEuUm"
      },
      "source": [
        "general_data = defender_data.union(midfileder_data).union(attacker_data)"
      ],
      "execution_count": 125,
      "outputs": []
    },
    {
      "cell_type": "code",
      "metadata": {
        "colab": {
          "base_uri": "https://localhost:8080/"
        },
        "id": "7VPitywSY4Sm",
        "outputId": "0dbb4ef7-210b-4274-f73c-6932ac0bba92"
      },
      "source": [
        "# missing values: general data\n",
        "general_data.select([count(when(isnull(c), c)).alias(c) for c in general_data.columns]).show()"
      ],
      "execution_count": 130,
      "outputs": [
        {
          "output_type": "stream",
          "text": [
            "+----------+---+---+---------+---------+-----------+----+-------+---------+---------+--------------+------------------------+---------+-----------+---------+---------+----+--------+-------+---------+---------+------+------------------+-------------------+--------------------------+-----------------------+-----------------+---------------+-----------+-----------------+------------------+------------------+---------------------+---------------------+----------------+------------------+----------------+----------------+-------------+-------------+--------------+----------------+--------------------+-----------------------+---------------------+----------------+-------------------+-------------------+-----------------+-------------------------+------------------------+------------------+--------------------+-------------------+-----------------------+--------------------+--------+---------------+\n",
            "|short_name|age|dob|height_cm|weight_kg|nationality|club|overall|potential|value_eur|preferred_foot|international_reputation|weak_foot|skill_moves|work_rate|body_type|pace|shooting|passing|dribbling|defending|physic|attacking_crossing|attacking_finishing|attacking_heading_accuracy|attacking_short_passing|attacking_volleys|skill_dribbling|skill_curve|skill_fk_accuracy|skill_long_passing|skill_ball_control|movement_acceleration|movement_sprint_speed|movement_agility|movement_reactions|movement_balance|power_shot_power|power_jumping|power_stamina|power_strength|power_long_shots|mentality_aggression|mentality_interceptions|mentality_positioning|mentality_vision|mentality_penalties|mentality_composure|defending_marking|defending_standing_tackle|defending_sliding_tackle|goalkeeping_diving|goalkeeping_handling|goalkeeping_kicking|goalkeeping_positioning|goalkeeping_reflexes|Position|Positon_General|\n",
            "+----------+---+---+---------+---------+-----------+----+-------+---------+---------+--------------+------------------------+---------+-----------+---------+---------+----+--------+-------+---------+---------+------+------------------+-------------------+--------------------------+-----------------------+-----------------+---------------+-----------+-----------------+------------------+------------------+---------------------+---------------------+----------------+------------------+----------------+----------------+-------------+-------------+--------------+----------------+--------------------+-----------------------+---------------------+----------------+-------------------+-------------------+-----------------+-------------------------+------------------------+------------------+--------------------+-------------------+-----------------------+--------------------+--------+---------------+\n",
            "|         0|  0|  0|        0|        0|          0|   0|      0|        0|        0|             0|                       0|        0|          0|        0|        0|   0|       0|      0|        0|        0|     0|                 0|                  0|                         0|                      0|                0|              0|          0|                0|                 0|                 0|                    0|                    0|               0|                 0|               0|               0|            0|            0|             0|               0|                   0|                      0|                    0|               0|                  0|                  0|                0|                        0|                       0|                 0|                   0|                  0|                      0|                   0|       0|              0|\n",
            "+----------+---+---+---------+---------+-----------+----+-------+---------+---------+--------------+------------------------+---------+-----------+---------+---------+----+--------+-------+---------+---------+------+------------------+-------------------+--------------------------+-----------------------+-----------------+---------------+-----------+-----------------+------------------+------------------+---------------------+---------------------+----------------+------------------+----------------+----------------+-------------+-------------+--------------+----------------+--------------------+-----------------------+---------------------+----------------+-------------------+-------------------+-----------------+-------------------------+------------------------+------------------+--------------------+-------------------+-----------------------+--------------------+--------+---------------+\n",
            "\n"
          ],
          "name": "stdout"
        }
      ]
    },
    {
      "cell_type": "code",
      "metadata": {
        "id": "zaqgNtqZdfd_"
      },
      "source": [
        "general_data = general_data.drop('gk_diving', 'gk_handling', 'gk_kicking', 'gk_reflexes', 'gk_speed', 'gk_positioning')"
      ],
      "execution_count": 129,
      "outputs": []
    },
    {
      "cell_type": "code",
      "metadata": {
        "colab": {
          "base_uri": "https://localhost:8080/"
        },
        "id": "RPNRtHgjej1i",
        "outputId": "c1765b2f-b55e-4627-89f1-5eb0239bd560"
      },
      "source": [
        "# missing values: gk data\n",
        "gk_data.select([count(when(isnull(c), c)).alias(c) for c in gk_data.columns]).show()"
      ],
      "execution_count": 133,
      "outputs": [
        {
          "output_type": "stream",
          "text": [
            "+----------+---+---+---------+---------+-----------+----+-------+---------+---------+--------------+------------------------+---------+-----------+---------+---------+---------+-----------+----------+-----------+--------+--------------+------------------+-------------------+--------------------------+-----------------------+-----------------+---------------+-----------+-----------------+------------------+------------------+---------------------+---------------------+----------------+------------------+----------------+----------------+-------------+-------------+--------------+----------------+--------------------+-----------------------+---------------------+----------------+-------------------+-------------------+-----------------+-------------------------+------------------------+------------------+--------------------+-------------------+-----------------------+--------------------+--------+---------------+\n",
            "|short_name|age|dob|height_cm|weight_kg|nationality|club|overall|potential|value_eur|preferred_foot|international_reputation|weak_foot|skill_moves|work_rate|body_type|gk_diving|gk_handling|gk_kicking|gk_reflexes|gk_speed|gk_positioning|attacking_crossing|attacking_finishing|attacking_heading_accuracy|attacking_short_passing|attacking_volleys|skill_dribbling|skill_curve|skill_fk_accuracy|skill_long_passing|skill_ball_control|movement_acceleration|movement_sprint_speed|movement_agility|movement_reactions|movement_balance|power_shot_power|power_jumping|power_stamina|power_strength|power_long_shots|mentality_aggression|mentality_interceptions|mentality_positioning|mentality_vision|mentality_penalties|mentality_composure|defending_marking|defending_standing_tackle|defending_sliding_tackle|goalkeeping_diving|goalkeeping_handling|goalkeeping_kicking|goalkeeping_positioning|goalkeeping_reflexes|Position|Positon_General|\n",
            "+----------+---+---+---------+---------+-----------+----+-------+---------+---------+--------------+------------------------+---------+-----------+---------+---------+---------+-----------+----------+-----------+--------+--------------+------------------+-------------------+--------------------------+-----------------------+-----------------+---------------+-----------+-----------------+------------------+------------------+---------------------+---------------------+----------------+------------------+----------------+----------------+-------------+-------------+--------------+----------------+--------------------+-----------------------+---------------------+----------------+-------------------+-------------------+-----------------+-------------------------+------------------------+------------------+--------------------+-------------------+-----------------------+--------------------+--------+---------------+\n",
            "|         0|  0|  0|        0|        0|          0|   0|      0|        0|        0|             0|                       0|        0|          0|        0|        0|        0|          0|         0|          0|       0|             0|                 0|                  0|                         0|                      0|                0|              0|          0|                0|                 0|                 0|                    0|                    0|               0|                 0|               0|               0|            0|            0|             0|               0|                   0|                      0|                    0|               0|                  0|                  0|                0|                        0|                       0|                 0|                   0|                  0|                      0|                   0|       0|              0|\n",
            "+----------+---+---+---------+---------+-----------+----+-------+---------+---------+--------------+------------------------+---------+-----------+---------+---------+---------+-----------+----------+-----------+--------+--------------+------------------+-------------------+--------------------------+-----------------------+-----------------+---------------+-----------+-----------------+------------------+------------------+---------------------+---------------------+----------------+------------------+----------------+----------------+-------------+-------------+--------------+----------------+--------------------+-----------------------+---------------------+----------------+-------------------+-------------------+-----------------+-------------------------+------------------------+------------------+--------------------+-------------------+-----------------------+--------------------+--------+---------------+\n",
            "\n"
          ],
          "name": "stdout"
        }
      ]
    },
    {
      "cell_type": "code",
      "metadata": {
        "id": "yR-p99yLevA6"
      },
      "source": [
        "gk_data = gk_data.drop('pace', 'shooting', 'passing', 'dribbling', 'defending', 'physic')"
      ],
      "execution_count": 132,
      "outputs": []
    },
    {
      "cell_type": "code",
      "metadata": {
        "colab": {
          "base_uri": "https://localhost:8080/"
        },
        "id": "X9pYTvvNe3tJ",
        "outputId": "2a850cda-e5cd-498a-92cf-f13504701dd2"
      },
      "source": [
        "# duplicated values: general data\n",
        "if general_data.count() == general_data.drop_duplicates().count():\n",
        "  print('No duplicated records.')"
      ],
      "execution_count": 136,
      "outputs": [
        {
          "output_type": "stream",
          "text": [
            "No duplicated records.\n"
          ],
          "name": "stdout"
        }
      ]
    },
    {
      "cell_type": "code",
      "metadata": {
        "colab": {
          "base_uri": "https://localhost:8080/"
        },
        "id": "giP7071ifdzE",
        "outputId": "5faf0a5e-e6a6-408e-d8ce-9c1dc2285672"
      },
      "source": [
        "# duplicated values: gk data\n",
        "if gk_data.count() == gk_data.drop_duplicates().count():\n",
        "  print('No duplicated records.')"
      ],
      "execution_count": 137,
      "outputs": [
        {
          "output_type": "stream",
          "text": [
            "No duplicated records.\n"
          ],
          "name": "stdout"
        }
      ]
    },
    {
      "cell_type": "code",
      "metadata": {
        "colab": {
          "base_uri": "https://localhost:8080/"
        },
        "id": "ZNPdLxhzfxZX",
        "outputId": "46f7af4a-c1af-4ea8-b0d5-f38e2ca7357c"
      },
      "source": [
        "general_data\n",
        "gk_data"
      ],
      "execution_count": 138,
      "outputs": [
        {
          "output_type": "execute_result",
          "data": {
            "text/plain": [
              "DataFrame[short_name: string, age: int, dob: string, height_cm: int, weight_kg: int, nationality: string, club: string, overall: int, potential: int, value_eur: int, preferred_foot: string, international_reputation: int, weak_foot: int, skill_moves: int, work_rate: string, body_type: string, gk_diving: int, gk_handling: int, gk_kicking: int, gk_reflexes: int, gk_speed: int, gk_positioning: int, attacking_crossing: int, attacking_finishing: int, attacking_heading_accuracy: int, attacking_short_passing: int, attacking_volleys: int, skill_dribbling: int, skill_curve: int, skill_fk_accuracy: int, skill_long_passing: int, skill_ball_control: int, movement_acceleration: int, movement_sprint_speed: int, movement_agility: int, movement_reactions: int, movement_balance: int, power_shot_power: int, power_jumping: int, power_stamina: int, power_strength: int, power_long_shots: int, mentality_aggression: int, mentality_interceptions: int, mentality_positioning: int, mentality_vision: int, mentality_penalties: int, mentality_composure: int, defending_marking: int, defending_standing_tackle: int, defending_sliding_tackle: int, goalkeeping_diving: int, goalkeeping_handling: int, goalkeeping_kicking: int, goalkeeping_positioning: int, goalkeeping_reflexes: int, Position: string, Positon_General: string]"
            ]
          },
          "metadata": {
            "tags": []
          },
          "execution_count": 138
        }
      ]
    },
    {
      "cell_type": "code",
      "metadata": {
        "id": "WMWQW03Wf26k"
      },
      "source": [
        ""
      ],
      "execution_count": null,
      "outputs": []
    }
  ]
}