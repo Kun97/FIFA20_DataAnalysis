{
  "nbformat": 4,
  "nbformat_minor": 0,
  "metadata": {
    "colab": {
      "name": "Code",
      "provenance": []
    },
    "kernelspec": {
      "name": "python3",
      "display_name": "Python 3"
    }
  },
  "cells": [
    {
      "cell_type": "code",
      "metadata": {
        "colab": {
          "base_uri": "https://localhost:8080/"
        },
        "id": "45JZ8-JVYbIN",
        "outputId": "65530379-e14c-4c93-975f-4b93c0675316"
      },
      "source": [
        "# Load Data\n",
        "%%bash\n",
        "pip install pyspark\n",
        "# Download the data files from github\n",
        "# If the data file does not exist in the colab environment\n",
        "if [[ ! -f ./players_20.csv ]]; then \n",
        "   # download the data file from github and save it in this colab environment instance\n",
        "   wget https://raw.githubusercontent.com/Kun97/FIFA20_DataAnalysis/main/players_20.csv\n",
        "fi"
      ],
      "execution_count": 113,
      "outputs": [
        {
          "output_type": "stream",
          "text": [
            "Requirement already satisfied: pyspark in /usr/local/lib/python3.6/dist-packages (3.0.1)\n",
            "Requirement already satisfied: py4j==0.10.9 in /usr/local/lib/python3.6/dist-packages (from pyspark) (0.10.9)\n"
          ],
          "name": "stdout"
        }
      ]
    },
    {
      "cell_type": "code",
      "metadata": {
        "id": "R5BV-PgYYYtu"
      },
      "source": [
        "# The first code cell of your notebook shall include all needed imports to run your project code.  Note that\n",
        "# there can be markdown cells above this cell.\n",
        "from pyspark.sql import SparkSession\n",
        "import pandas as pd\n",
        "from pyspark.sql.functions import col, lit, split, isnan, when, count, isnull\n",
        "from pyspark.ml import Pipeline\n",
        "from pyspark.ml.feature import StringIndexerModel, StringIndexer, OneHotEncoder"
      ],
      "execution_count": 171,
      "outputs": []
    },
    {
      "cell_type": "code",
      "metadata": {
        "id": "zoulHi-UYwOB"
      },
      "source": [
        "from pyspark.sql import SparkSession\n",
        "spark = SparkSession.builder.master(\"local[*]\").getOrCreate()\n",
        "sc = spark.sparkContext"
      ],
      "execution_count": 115,
      "outputs": []
    },
    {
      "cell_type": "code",
      "metadata": {
        "id": "XoUAYDsWY0sp"
      },
      "source": [
        "original_data = spark.read.csv(\"players_20.csv\", inferSchema=True, header=True)"
      ],
      "execution_count": 142,
      "outputs": []
    },
    {
      "cell_type": "code",
      "metadata": {
        "id": "oB3qiwATahEn"
      },
      "source": [
        "# drop useless columns\n",
        "drop1_columns = ['sofifa_id', 'player_url', 'long_name', 'player_tags', 'player_traits', 'real_face', 'nation_jersey_number', 'team_jersey_number', 'loaned_from', 'joined', 'contract_valid_until']\n",
        "fixed1_Data = original_data.drop(*drop1_columns)"
      ],
      "execution_count": 143,
      "outputs": []
    },
    {
      "cell_type": "code",
      "metadata": {
        "id": "i4u6vfWtaju7"
      },
      "source": [
        "# drop position ability(duplicated and will affect the final result)\n",
        "drop2_columns = fixed1_Data.columns[-26:]\n",
        "fixed2_Data = fixed1_Data.drop(*drop2_columns)"
      ],
      "execution_count": 144,
      "outputs": []
    },
    {
      "cell_type": "code",
      "metadata": {
        "id": "yThhmgymAJz0"
      },
      "source": [
        "# drop duplicated columns\n",
        "drop3_columns = ['wage_eur', 'team_position', 'release_clause_eur', 'nation_position', 'gk_diving', 'gk_handling', 'gk_kicking', 'gk_reflexes', 'gk_speed', 'gk_positioning', 'pace', 'shooting', 'passing', 'dribbling', 'defending', 'physic']\n",
        "fixed3_Data = fixed2_Data.drop(*drop3_columns)"
      ],
      "execution_count": 145,
      "outputs": []
    },
    {
      "cell_type": "code",
      "metadata": {
        "id": "9tvzux32IDWk"
      },
      "source": [
        "# split player_positions and choose the first position as primary position\n",
        "split_col = split(fixed3_Data['player_positions'], ',')\n",
        "position_data = fixed3_Data.withColumn('Position', split_col.getItem(0))\n",
        "position_data = position_data.drop('player_positions')"
      ],
      "execution_count": 146,
      "outputs": []
    },
    {
      "cell_type": "code",
      "metadata": {
        "id": "MxDYF5MVh61J"
      },
      "source": [
        "# split work_Rate \n",
        "split_col = split(position_data['work_rate'], '/')\n",
        "position_data = position_data.withColumn('Attack_workrate', split_col.getItem(0))\n",
        "position_data = position_data.withColumn('Defend_workrate', split_col.getItem(1))\n",
        "position_data = position_data.drop('work_rate')"
      ],
      "execution_count": 156,
      "outputs": []
    },
    {
      "cell_type": "code",
      "metadata": {
        "colab": {
          "base_uri": "https://localhost:8080/"
        },
        "id": "ZCPifnT6AkbR",
        "outputId": "b4c1665a-41d2-40cd-b1ba-41cdadbec79b"
      },
      "source": [
        "# narrow down positions: defender\n",
        "defender = ['LCB', 'RCB', 'LB', 'RB', 'CB', 'RWB', 'LWB']\n",
        "defender_data = position_data.filter(col('Position').isin(defender)).withColumn('Positon_General', lit('Defender'))\n",
        "defender_data.count()"
      ],
      "execution_count": 159,
      "outputs": [
        {
          "output_type": "execute_result",
          "data": {
            "text/plain": [
              "5938"
            ]
          },
          "metadata": {
            "tags": []
          },
          "execution_count": 159
        }
      ]
    },
    {
      "cell_type": "code",
      "metadata": {
        "colab": {
          "base_uri": "https://localhost:8080/"
        },
        "id": "KveIQxvtCTid",
        "outputId": "4e69d1e5-8397-41c6-a473-7276ca9a283f"
      },
      "source": [
        "# midfileder\n",
        "midfileder = ['LCM', 'LM', 'RDM', 'CAM', 'RAM', 'RCM', 'CM', 'CDM', 'RM', 'LAM', 'LDM']\n",
        "midfileder_data = position_data.filter(col('Position').isin(midfileder)).withColumn('Positon_General', lit('Midfileder'))\n",
        "midfileder_data.count()"
      ],
      "execution_count": 160,
      "outputs": [
        {
          "output_type": "execute_result",
          "data": {
            "text/plain": [
              "6862"
            ]
          },
          "metadata": {
            "tags": []
          },
          "execution_count": 160
        }
      ]
    },
    {
      "cell_type": "code",
      "metadata": {
        "colab": {
          "base_uri": "https://localhost:8080/"
        },
        "id": "JVkt2BxDZYao",
        "outputId": "53632f45-dbdb-4cfc-a90d-0b2cadacda94"
      },
      "source": [
        "# attacker\n",
        "attacker = ['ST', 'CF', 'LW', 'RW']\n",
        "attacker_data = position_data.filter(col('Position').isin(attacker)).withColumn('Positon_General', lit('Attacker'))\n",
        "attacker_data.count()"
      ],
      "execution_count": 161,
      "outputs": [
        {
          "output_type": "execute_result",
          "data": {
            "text/plain": [
              "3442"
            ]
          },
          "metadata": {
            "tags": []
          },
          "execution_count": 161
        }
      ]
    },
    {
      "cell_type": "code",
      "metadata": {
        "colab": {
          "base_uri": "https://localhost:8080/"
        },
        "id": "EE4sL882ZkBT",
        "outputId": "23806e9f-9f48-498d-c09c-3abcb51bbfef"
      },
      "source": [
        "# goal keeper\n",
        "gk_data = position_data.filter(col('Position').isin(['GK'])).withColumn('Positon_General', lit('GK'))\n",
        "gk_data.count()"
      ],
      "execution_count": 162,
      "outputs": [
        {
          "output_type": "execute_result",
          "data": {
            "text/plain": [
              "2036"
            ]
          },
          "metadata": {
            "tags": []
          },
          "execution_count": 162
        }
      ]
    },
    {
      "cell_type": "code",
      "metadata": {
        "id": "CBUcnSGXEuUm"
      },
      "source": [
        "general_data = defender_data.union(midfileder_data).union(attacker_data).union(gk_data)"
      ],
      "execution_count": 163,
      "outputs": []
    },
    {
      "cell_type": "code",
      "metadata": {
        "colab": {
          "base_uri": "https://localhost:8080/"
        },
        "id": "7VPitywSY4Sm",
        "outputId": "27adf702-d767-454e-e084-6e619bc412bc"
      },
      "source": [
        "# missing values: \n",
        "general_data.select([count(when(isnull(c), c)).alias(c) for c in general_data.columns]).show()"
      ],
      "execution_count": 152,
      "outputs": [
        {
          "output_type": "stream",
          "text": [
            "+----------+---+---+---------+---------+-----------+----+-------+---------+---------+--------------+------------------------+---------+-----------+---------+---------+------------------+-------------------+--------------------------+-----------------------+-----------------+---------------+-----------+-----------------+------------------+------------------+---------------------+---------------------+----------------+------------------+----------------+----------------+-------------+-------------+--------------+----------------+--------------------+-----------------------+---------------------+----------------+-------------------+-------------------+-----------------+-------------------------+------------------------+------------------+--------------------+-------------------+-----------------------+--------------------+--------+---------------+\n",
            "|short_name|age|dob|height_cm|weight_kg|nationality|club|overall|potential|value_eur|preferred_foot|international_reputation|weak_foot|skill_moves|work_rate|body_type|attacking_crossing|attacking_finishing|attacking_heading_accuracy|attacking_short_passing|attacking_volleys|skill_dribbling|skill_curve|skill_fk_accuracy|skill_long_passing|skill_ball_control|movement_acceleration|movement_sprint_speed|movement_agility|movement_reactions|movement_balance|power_shot_power|power_jumping|power_stamina|power_strength|power_long_shots|mentality_aggression|mentality_interceptions|mentality_positioning|mentality_vision|mentality_penalties|mentality_composure|defending_marking|defending_standing_tackle|defending_sliding_tackle|goalkeeping_diving|goalkeeping_handling|goalkeeping_kicking|goalkeeping_positioning|goalkeeping_reflexes|Position|Positon_General|\n",
            "+----------+---+---+---------+---------+-----------+----+-------+---------+---------+--------------+------------------------+---------+-----------+---------+---------+------------------+-------------------+--------------------------+-----------------------+-----------------+---------------+-----------+-----------------+------------------+------------------+---------------------+---------------------+----------------+------------------+----------------+----------------+-------------+-------------+--------------+----------------+--------------------+-----------------------+---------------------+----------------+-------------------+-------------------+-----------------+-------------------------+------------------------+------------------+--------------------+-------------------+-----------------------+--------------------+--------+---------------+\n",
            "|         0|  0|  0|        0|        0|          0|   0|      0|        0|        0|             0|                       0|        0|          0|        0|        0|                 0|                  0|                         0|                      0|                0|              0|          0|                0|                 0|                 0|                    0|                    0|               0|                 0|               0|               0|            0|            0|             0|               0|                   0|                      0|                    0|               0|                  0|                  0|                0|                        0|                       0|                 0|                   0|                  0|                      0|                   0|       0|              0|\n",
            "+----------+---+---+---------+---------+-----------+----+-------+---------+---------+--------------+------------------------+---------+-----------+---------+---------+------------------+-------------------+--------------------------+-----------------------+-----------------+---------------+-----------+-----------------+------------------+------------------+---------------------+---------------------+----------------+------------------+----------------+----------------+-------------+-------------+--------------+----------------+--------------------+-----------------------+---------------------+----------------+-------------------+-------------------+-----------------+-------------------------+------------------------+------------------+--------------------+-------------------+-----------------------+--------------------+--------+---------------+\n",
            "\n"
          ],
          "name": "stdout"
        }
      ]
    },
    {
      "cell_type": "code",
      "metadata": {
        "colab": {
          "base_uri": "https://localhost:8080/"
        },
        "id": "X9pYTvvNe3tJ",
        "outputId": "8e115ff3-fc66-464e-8712-b0fc89963769"
      },
      "source": [
        "# duplicated values: general data\n",
        "if general_data.count() == general_data.drop_duplicates().count():\n",
        "  print('No duplicated records.')"
      ],
      "execution_count": 153,
      "outputs": [
        {
          "output_type": "stream",
          "text": [
            "No duplicated records.\n"
          ],
          "name": "stdout"
        }
      ]
    },
    {
      "cell_type": "code",
      "metadata": {
        "id": "QQSZAjLHj6F7"
      },
      "source": [
        "# numerlize categorical data\n",
        "# Rate: low, medium, high: 0, 1, 2\n",
        "# foot: left, right: 1, 0\n",
        "data_prepipe = Pipeline(stages=[\n",
        "                                StringIndexerModel.from_labels(['Low', 'Medium', 'High'], inputCol='Attack_workrate', outputCol='Attack_workrate_num'),\n",
        "                                StringIndexerModel.from_labels(['Low', 'Medium', 'High'], inputCol='Defend_workrate', outputCol='Defend_workrate_num'),\n",
        "                                StringIndexer(inputCols=[\"preferred_foot\", \"body_type\", \"Positon_General\"], outputCols=[\"preferred_foot_num\", \"body_type_num\", \"Positon_General_num\"]),\n",
        "                                OneHotEncoder(inputCols=['preferred_foot_num', 'body_type_num'], outputCols=['foot', 'body'])\n",
        "])"
      ],
      "execution_count": 213,
      "outputs": []
    },
    {
      "cell_type": "code",
      "metadata": {
        "id": "f1jLxhYkjP_Z"
      },
      "source": [
        "general_data_xformed = data_prepipe.fit(general_data).transform(general_data)"
      ],
      "execution_count": 214,
      "outputs": []
    },
    {
      "cell_type": "code",
      "metadata": {
        "colab": {
          "base_uri": "https://localhost:8080/"
        },
        "id": "IAjirZZNrDKQ",
        "outputId": "13318ba3-4f8b-4587-cbc1-6ed6ebd4f135"
      },
      "source": [
        "general_data_xformed.show()"
      ],
      "execution_count": 215,
      "outputs": [
        {
          "output_type": "stream",
          "text": [
            "+---------------+---+----------+---------+---------+-----------+-------------------+-------+---------+---------+--------------+------------------------+---------+-----------+---------+------------------+-------------------+--------------------------+-----------------------+-----------------+---------------+-----------+-----------------+------------------+------------------+---------------------+---------------------+----------------+------------------+----------------+----------------+-------------+-------------+--------------+----------------+--------------------+-----------------------+---------------------+----------------+-------------------+-------------------+-----------------+-------------------------+------------------------+------------------+--------------------+-------------------+-----------------------+--------------------+--------+---------------+---------------+---------------+-------------------+-------------------+------------------+-------------+-------------------+-------------+-------------+\n",
            "|     short_name|age|       dob|height_cm|weight_kg|nationality|               club|overall|potential|value_eur|preferred_foot|international_reputation|weak_foot|skill_moves|body_type|attacking_crossing|attacking_finishing|attacking_heading_accuracy|attacking_short_passing|attacking_volleys|skill_dribbling|skill_curve|skill_fk_accuracy|skill_long_passing|skill_ball_control|movement_acceleration|movement_sprint_speed|movement_agility|movement_reactions|movement_balance|power_shot_power|power_jumping|power_stamina|power_strength|power_long_shots|mentality_aggression|mentality_interceptions|mentality_positioning|mentality_vision|mentality_penalties|mentality_composure|defending_marking|defending_standing_tackle|defending_sliding_tackle|goalkeeping_diving|goalkeeping_handling|goalkeeping_kicking|goalkeeping_positioning|goalkeeping_reflexes|Position|Attack_workrate|Defend_workrate|Positon_General|Attack_workrate_num|Defend_workrate_num|preferred_foot_num|body_type_num|Positon_General_num|         foot|         body|\n",
            "+---------------+---+----------+---------+---------+-----------+-------------------+-------+---------+---------+--------------+------------------------+---------+-----------+---------+------------------+-------------------+--------------------------+-----------------------+-----------------+---------------+-----------+-----------------+------------------+------------------+---------------------+---------------------+----------------+------------------+----------------+----------------+-------------+-------------+--------------+----------------+--------------------+-----------------------+---------------------+----------------+-------------------+-------------------+-----------------+-------------------------+------------------------+------------------+--------------------+-------------------+-----------------------+--------------------+--------+---------------+---------------+---------------+-------------------+-------------------+------------------+-------------+-------------------+-------------+-------------+\n",
            "|    V. van Dijk| 27|1991-07-08|      193|       92|Netherlands|          Liverpool|     90|       91| 78000000|         Right|                       3|        3|          2|   Normal|                53|                 52|                        86|                     78|               45|             70|         60|               70|                81|                76|                   74|                   79|              61|                88|              53|              81|           90|           75|            92|              64|                  82|                     89|                   47|              65|                 62|                 89|               91|                       92|                      85|                13|                  10|                 13|                     11|                  11|      CB|         Medium|         Medium|       Defender|                1.0|                1.0|               0.0|          0.0|                1.0|(1,[0],[1.0])|(9,[0],[1.0])|\n",
            "|   K. Koulibaly| 28|1991-06-20|      187|       89|    Senegal|             Napoli|     89|       91| 67500000|         Right|                       3|        3|          2|   Normal|                30|                 22|                        83|                     71|               14|             69|         28|               28|                63|                71|                   69|                   73|              52|                86|              41|              55|           81|           73|            95|              15|                  87|                     88|                   35|              52|                 33|                 82|               91|                       90|                      87|                 7|                  11|                  7|                     13|                   5|      CB|         Medium|           High|       Defender|                1.0|                2.0|               0.0|          0.0|                1.0|(1,[0],[1.0])|(9,[0],[1.0])|\n",
            "|   G. Chiellini| 34|1984-08-14|      187|       85|      Italy|           Juventus|     89|       89| 24500000|          Left|                       4|        3|          2|   Normal|                54|                 33|                        83|                     65|               45|             59|         60|               31|                65|                61|                   61|                   73|              57|                82|              57|              78|           89|           59|            89|              49|                  91|                     88|                   28|              50|                 50|                 84|               94|                       91|                      89|                 3|                   3|                  2|                      4|                   3|      CB|         Medium|           High|       Defender|                1.0|                2.0|               1.0|          0.0|                1.0|    (1,[],[])|(9,[0],[1.0])|\n",
            "|   Sergio Ramos| 33|1986-03-30|      184|       82|      Spain|        Real Madrid|     89|       89| 31500000|         Right|                       4|        3|          3|   Normal|                66|                 63|                        92|                     80|               69|             65|         74|               72|                83|                83|                   74|                   71|              78|                87|              66|              79|           93|           80|            85|              62|                  90|                     88|                   67|              71|                 86|                 84|               85|                       87|                      90|                11|                   8|                  9|                      7|                  11|      CB|           High|         Medium|       Defender|                2.0|                1.0|               0.0|          0.0|                1.0|(1,[0],[1.0])|(9,[0],[1.0])|\n",
            "|          Piqué| 32|1987-02-02|      194|       85|      Spain|       FC Barcelona|     88|       88| 38000000|         Right|                       4|        3|          2|   Normal|                57|                 65|                        85|                     83|               57|             63|         58|               43|                81|                82|                   48|                   63|              57|                85|              36|              62|           75|           70|            87|              51|                  76|                     89|                   64|              72|                 69|                 87|               89|                       88|                      87|                10|                  11|                 14|                     15|                   8|      CB|           High|         Medium|       Defender|                2.0|                1.0|               0.0|          0.0|                1.0|(1,[0],[1.0])|(9,[0],[1.0])|\n",
            "|       D. Godín| 33|1986-02-16|      187|       78|    Uruguay|              Inter|     88|       88| 28000000|         Right|                       3|        3|          2|     Lean|                52|                 42|                        88|                     79|               47|             53|         49|               49|                70|                74|                   61|                   60|              57|                81|              53|              67|           90|           65|            89|              43|                  88|                     87|                   48|              52|                 50|                 82|               90|                       89|                      87|                 6|                   8|                 15|                      5|                  15|      CB|         Medium|           High|       Defender|                1.0|                2.0|               0.0|          1.0|                1.0|(1,[0],[1.0])|(9,[1],[1.0])|\n",
            "|     A. Laporte| 25|1994-05-27|      189|       85|     France|    Manchester City|     87|       90| 56500000|          Left|                       2|        3|          2|   Normal|                58|                 45|                        86|                     81|               40|             63|         61|               69|                80|                77|                   61|                   66|              59|                87|              60|              68|           78|           78|            85|              47|                  79|                     87|                   54|              65|                 44|                 85|               88|                       89|                      88|                10|                  11|                  5|                     14|                   5|      CB|         Medium|         Medium|       Defender|                1.0|                1.0|               1.0|          0.0|                1.0|    (1,[],[])|(9,[0],[1.0])|\n",
            "|   Thiago Silva| 34|1984-09-22|      183|       82|     Brazil|Paris Saint-Germain|     87|       87| 18500000|         Right|                       4|        3|          2|   Normal|                60|                 40|                        81|                     80|               61|             67|         62|               61|                80|                80|                   60|                   64|              67|                82|              67|              71|           90|           71|            81|              65|                  76|                     90|                   59|              70|                 60|                 86|               88|                       88|                      85|                 9|                  12|                  5|                      9|                  10|      CB|         Medium|           High|       Defender|                1.0|                2.0|               0.0|          0.0|                1.0|(1,[0],[1.0])|(9,[0],[1.0])|\n",
            "|  J. Vertonghen| 32|1987-04-24|      189|       86|    Belgium|  Tottenham Hotspur|     87|       87| 32500000|          Left|                       3|        3|          3|   Normal|                72|                 56|                        80|                     79|               52|             71|         66|               70|                74|                77|                   60|                   65|              60|                85|              60|              80|           85|           75|            79|              66|                  84|                     89|                   56|              68|                 66|                 84|               89|                       87|                      88|                 6|                  10|                  9|                     12|                   7|      CB|           High|           High|       Defender|                2.0|                2.0|               1.0|          0.0|                1.0|    (1,[],[])|(9,[0],[1.0])|\n",
            "|     M. Hummels| 30|1988-12-16|      191|       94|    Germany|  Borussia Dortmund|     87|       87| 41000000|         Right|                       4|        3|          3|   Normal|                64|                 55|                        87|                     81|               60|             68|         65|               53|                85|                81|                   46|                   55|              64|                87|              59|              71|           68|           65|            85|              51|                  71|                     89|                   56|              79|                 68|                 89|               90|                       89|                      86|                15|                   6|                 10|                      5|                   6|      CB|           High|         Medium|       Defender|                2.0|                1.0|               0.0|          0.0|                1.0|(1,[0],[1.0])|(9,[0],[1.0])|\n",
            "|T. Alderweireld| 30|1989-03-02|      186|       81|    Belgium|  Tottenham Hotspur|     87|       87| 41000000|         Right|                       3|        3|          2|   Normal|                64|                 45|                        82|                     79|               38|             62|         63|               69|                85|                75|                   61|                   66|              59|                87|              50|              78|           84|           78|            79|              58|                  81|                     88|                   54|              62|                 58|                 86|               90|                       90|                      86|                16|                   6|                 14|                     16|                  14|      CB|         Medium|         Medium|       Defender|                1.0|                1.0|               0.0|          0.0|                1.0|(1,[0],[1.0])|(9,[0],[1.0])|\n",
            "|     Jordi Alba| 30|1989-03-21|      170|       68|      Spain|       FC Barcelona|     87|       87| 40000000|          Left|                       3|        3|          3|   Normal|                87|                 73|                        70|                     84|               60|             81|         80|               63|                79|                85|                   91|                   90|              89|                85|              85|              64|           81|           92|            61|              66|                  77|                     83|                   83|              78|                 59|                 82|               74|                       83|                      84|                13|                  15|                 13|                      6|                  13|      LB|           High|         Medium|       Defender|                2.0|                1.0|               1.0|          0.0|                1.0|    (1,[],[])|(9,[0],[1.0])|\n",
            "|     Marquinhos| 25|1994-05-14|      183|       75|     Brazil|Paris Saint-Germain|     86|       90| 51500000|         Right|                       3|        3|          3|   Normal|                68|                 33|                        84|                     82|               31|             64|         55|               32|                82|                79|                   72|                   76|              69|                85|              68|              61|           89|           76|            75|              35|                  80|                     86|                   59|              68|                 47|                 86|               86|                       87|                      87|                 6|                   6|                 12|                     10|                  13|      CB|         Medium|           High|       Defender|                1.0|                2.0|               0.0|          0.0|                1.0|(1,[0],[1.0])|(9,[0],[1.0])|\n",
            "|    M. Škriniar| 24|1995-02-11|      187|       80|   Slovakia|              Inter|     86|       90| 52000000|         Right|                       1|        4|          2|   Normal|                40|                 42|                        82|                     73|               40|             67|         34|               30|                69|                69|                   70|                   69|              48|                83|              51|              50|           78|           75|            85|              30|                  86|                     86|                   30|              57|                 56|                 81|               92|                       87|                      83|                10|                  13|                 12|                      8|                  12|      CB|         Medium|           High|       Defender|                1.0|                2.0|               0.0|          0.0|                1.0|(1,[0],[1.0])|(9,[0],[1.0])|\n",
            "|      S. Umtiti| 25|1993-11-14|      182|       75|     France|       FC Barcelona|     86|       89| 50000000|          Left|                       3|        3|          2|   Normal|                61|                 51|                        79|                     80|               65|             64|         72|               62|                73|                77|                   66|                   72|              62|                82|              66|              83|           88|           71|            86|              74|                  82|                     87|                   51|              58|                 61|                 82|               87|                       88|                      85|                15|                  10|                 14|                     12|                  15|      CB|         Medium|           High|       Defender|                1.0|                2.0|               1.0|          0.0|                1.0|    (1,[],[])|(9,[0],[1.0])|\n",
            "|     J. Kimmich| 24|1995-02-08|      176|       73|    Germany|  FC Bayern München|     86|       88| 48000000|         Right|                       3|        4|          3|     Lean|                91|                 66|                        74|                     87|               67|             83|         85|               61|                85|                85|                   77|                   68|              84|                87|              84|              76|           79|           94|            66|              71|                  86|                     80|                   80|              84|                 44|                 85|               78|                       80|                      79|                 8|                  15|                  7|                     15|                  15|      RB|           High|            Low|       Defender|                2.0|                0.0|               0.0|          1.0|                1.0|(1,[0],[1.0])|(9,[1],[1.0])|\n",
            "|     L. Bonucci| 32|1987-05-01|      190|       85|      Italy|           Juventus|     86|       86| 28500000|         Right|                       3|        4|          2|     Lean|                44|                 48|                        84|                     77|               58|             69|         56|               61|                85|                75|                   55|                   60|              61|                84|              55|              74|           85|           68|            82|              65|                  82|                     90|                   38|              74|                 70|                 86|               90|                       86|                      80|                 2|                   2|                  3|                      2|                   4|      CB|            Low|           High|       Defender|                0.0|                2.0|               0.0|          1.0|                1.0|(1,[0],[1.0])|(9,[1],[1.0])|\n",
            "|     M. de Ligt| 19|1999-08-12|      189|       89|Netherlands|           Juventus|     85|       93| 50000000|         Right|                       3|        4|          2|   Normal|                52|                 50|                        85|                     76|               40|             66|         48|               55|                74|                74|                   61|                   72|              56|                83|              60|              82|           84|           77|            88|              64|                  82|                     82|                   44|              63|                 40|                 82|               86|                       82|                      80|                12|                  11|                 11|                     12|                  10|      CB|         Medium|           High|       Defender|                1.0|                2.0|               0.0|          0.0|                1.0|(1,[0],[1.0])|(9,[0],[1.0])|\n",
            "|      R. Varane| 26|1993-04-25|      191|       81|     France|        Real Madrid|     85|       90| 45000000|         Right|                       3|        3|          2|     Lean|                36|                 40|                        83|                     75|               42|             55|         46|               52|                76|                77|                   79|                   86|              63|                83|              38|              52|           79|           72|            86|              53|                  77|                     82|                   44|              59|                 43|                 84|               87|                       86|                      85|                11|                  11|                  9|                      5|                  14|      CB|         Medium|           High|       Defender|                1.0|                2.0|               0.0|          1.0|                1.0|(1,[0],[1.0])|(9,[1],[1.0])|\n",
            "|        N. Süle| 23|1995-09-03|      195|       97|    Germany|  FC Bayern München|     85|       90| 46500000|         Right|                       2|        3|          2|   Stocky|                34|                 22|                        86|                     78|               33|             43|         28|               30|                69|                63|                   53|                   87|              34|                81|              33|              77|           40|           66|            94|              62|                  83|                     81|                   26|              40|                 32|                 75|               85|                       89|                      87|                15|                   7|                 14|                      7|                  15|      CB|         Medium|         Medium|       Defender|                1.0|                1.0|               0.0|          2.0|                1.0|(1,[0],[1.0])|(9,[2],[1.0])|\n",
            "+---------------+---+----------+---------+---------+-----------+-------------------+-------+---------+---------+--------------+------------------------+---------+-----------+---------+------------------+-------------------+--------------------------+-----------------------+-----------------+---------------+-----------+-----------------+------------------+------------------+---------------------+---------------------+----------------+------------------+----------------+----------------+-------------+-------------+--------------+----------------+--------------------+-----------------------+---------------------+----------------+-------------------+-------------------+-----------------+-------------------------+------------------------+------------------+--------------------+-------------------+-----------------------+--------------------+--------+---------------+---------------+---------------+-------------------+-------------------+------------------+-------------+-------------------+-------------+-------------+\n",
            "only showing top 20 rows\n",
            "\n"
          ],
          "name": "stdout"
        }
      ]
    },
    {
      "cell_type": "code",
      "metadata": {
        "id": "uVfpDDoOqG8K"
      },
      "source": [
        ""
      ],
      "execution_count": null,
      "outputs": []
    }
  ]
}